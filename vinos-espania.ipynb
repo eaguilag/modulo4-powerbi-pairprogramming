{
 "cells": [
  {
   "cell_type": "code",
   "execution_count": 1,
   "metadata": {},
   "outputs": [],
   "source": [
    "import pandas as pd\n",
    "import numpy as np\n",
    "import seaborn as sns\n",
    "import matplotlib.pyplot as plt\n",
    "from sklearn.impute import SimpleImputer\n",
    "from sklearn.experimental import enable_iterative_imputer\n",
    "from sklearn.impute import IterativeImputer\n",
    "from sklearn.impute import KNNImputer\n",
    "\n",
    "pd.set_option('display.max_columns', None) # para poder visualizar todas las columnas de los DataFrames\n",
    "pd.set_option('display.max_rows', None)"
   ]
  },
  {
   "cell_type": "code",
   "execution_count": 5,
   "metadata": {},
   "outputs": [
    {
     "data": {
      "text/html": [
       "<div>\n",
       "<style scoped>\n",
       "    .dataframe tbody tr th:only-of-type {\n",
       "        vertical-align: middle;\n",
       "    }\n",
       "\n",
       "    .dataframe tbody tr th {\n",
       "        vertical-align: top;\n",
       "    }\n",
       "\n",
       "    .dataframe thead th {\n",
       "        text-align: right;\n",
       "    }\n",
       "</style>\n",
       "<table border=\"1\" class=\"dataframe\">\n",
       "  <thead>\n",
       "    <tr style=\"text-align: right;\">\n",
       "      <th></th>\n",
       "      <th>winery</th>\n",
       "      <th>wine</th>\n",
       "      <th>year</th>\n",
       "      <th>rating</th>\n",
       "      <th>num_reviews</th>\n",
       "      <th>country</th>\n",
       "      <th>region</th>\n",
       "      <th>price</th>\n",
       "      <th>type</th>\n",
       "      <th>body</th>\n",
       "      <th>acidity</th>\n",
       "    </tr>\n",
       "  </thead>\n",
       "  <tbody>\n",
       "    <tr>\n",
       "      <th>0</th>\n",
       "      <td>Teso La Monja</td>\n",
       "      <td>Tinto</td>\n",
       "      <td>2013</td>\n",
       "      <td>4.9</td>\n",
       "      <td>58</td>\n",
       "      <td>Espana</td>\n",
       "      <td>Toro</td>\n",
       "      <td>995.00</td>\n",
       "      <td>Toro Red</td>\n",
       "      <td>5.0</td>\n",
       "      <td>3.0</td>\n",
       "    </tr>\n",
       "    <tr>\n",
       "      <th>1</th>\n",
       "      <td>Artadi</td>\n",
       "      <td>Vina El Pison</td>\n",
       "      <td>2018</td>\n",
       "      <td>4.9</td>\n",
       "      <td>31</td>\n",
       "      <td>Espana</td>\n",
       "      <td>Vino de Espana</td>\n",
       "      <td>313.50</td>\n",
       "      <td>Tempranillo</td>\n",
       "      <td>4.0</td>\n",
       "      <td>2.0</td>\n",
       "    </tr>\n",
       "    <tr>\n",
       "      <th>2</th>\n",
       "      <td>Vega Sicilia</td>\n",
       "      <td>Unico</td>\n",
       "      <td>2009</td>\n",
       "      <td>4.8</td>\n",
       "      <td>1793</td>\n",
       "      <td>Espana</td>\n",
       "      <td>Ribera del Duero</td>\n",
       "      <td>324.95</td>\n",
       "      <td>Ribera Del Duero Red</td>\n",
       "      <td>5.0</td>\n",
       "      <td>3.0</td>\n",
       "    </tr>\n",
       "    <tr>\n",
       "      <th>3</th>\n",
       "      <td>Vega Sicilia</td>\n",
       "      <td>Unico</td>\n",
       "      <td>1999</td>\n",
       "      <td>4.8</td>\n",
       "      <td>1705</td>\n",
       "      <td>Espana</td>\n",
       "      <td>Ribera del Duero</td>\n",
       "      <td>692.96</td>\n",
       "      <td>Ribera Del Duero Red</td>\n",
       "      <td>5.0</td>\n",
       "      <td>3.0</td>\n",
       "    </tr>\n",
       "    <tr>\n",
       "      <th>4</th>\n",
       "      <td>Vega Sicilia</td>\n",
       "      <td>Unico</td>\n",
       "      <td>1996</td>\n",
       "      <td>4.8</td>\n",
       "      <td>1309</td>\n",
       "      <td>Espana</td>\n",
       "      <td>Ribera del Duero</td>\n",
       "      <td>778.06</td>\n",
       "      <td>Ribera Del Duero Red</td>\n",
       "      <td>5.0</td>\n",
       "      <td>3.0</td>\n",
       "    </tr>\n",
       "  </tbody>\n",
       "</table>\n",
       "</div>"
      ],
      "text/plain": [
       "          winery           wine  year  rating  num_reviews country  \\\n",
       "0  Teso La Monja          Tinto  2013     4.9           58  Espana   \n",
       "1         Artadi  Vina El Pison  2018     4.9           31  Espana   \n",
       "2   Vega Sicilia          Unico  2009     4.8         1793  Espana   \n",
       "3   Vega Sicilia          Unico  1999     4.8         1705  Espana   \n",
       "4   Vega Sicilia          Unico  1996     4.8         1309  Espana   \n",
       "\n",
       "             region   price                  type  body  acidity  \n",
       "0              Toro  995.00              Toro Red   5.0      3.0  \n",
       "1    Vino de Espana  313.50           Tempranillo   4.0      2.0  \n",
       "2  Ribera del Duero  324.95  Ribera Del Duero Red   5.0      3.0  \n",
       "3  Ribera del Duero  692.96  Ribera Del Duero Red   5.0      3.0  \n",
       "4  Ribera del Duero  778.06  Ribera Del Duero Red   5.0      3.0  "
      ]
     },
     "execution_count": 5,
     "metadata": {},
     "output_type": "execute_result"
    }
   ],
   "source": [
    "vino_espania = pd.read_csv('wines_SPA.csv')\n",
    "vino_espania.head(5)"
   ]
  },
  {
   "cell_type": "code",
   "execution_count": 7,
   "metadata": {},
   "outputs": [],
   "source": [
    "#Creamos la función para explorar los datos. \n",
    "\n",
    "def exploracion_datos(df):\n",
    "    print('_____________ INFORMACIÓN GENERAL DEL DATAFRAME ____________\\n')\n",
    "    print(df.info())\n",
    "\n",
    "    print('___________________ FORMA DEL DATAFRAME ____________________\\n')\n",
    "    \n",
    "    print(f\"El número de filas que tenemos es de {df.shape[0]}.\\nEl número de columnas es de {df.shape[1]}\\n\")\n",
    "    \n",
    "\n",
    "    print('_______________ NULOS, ÚNICOS Y DUPLICADOS _________________\\n')\n",
    "    \n",
    "    print('La cantidad de valores NULOS por columna es de:\\n')\n",
    "    print(df.isnull().sum())\n",
    "    print('____________________________________________________________\\n')\n",
    "\n",
    "    print('La cantidad de valores ÚNICOS por columna es de:\\n')\n",
    "        \n",
    "    for columna in df.columns:\n",
    "        cantidad_valores_unicos = len(df[columna].unique())\n",
    "    \n",
    "        print(f'La columna {columna}: {cantidad_valores_unicos}')\n",
    "\n",
    "    \"\"\" Otra forma más rápida de obtener la lista de valores únicos por columna es usando df.nunique()\"\"\"\n",
    "\n",
    "    print('____________________________________________________________\\n')\n",
    "\n",
    "    print('La cantidad de valores DUPLICADOS por columna es de:\\n')\n",
    "\n",
    "    \"\"\"En análisis posteriores hemos detectado que hay columnas con valores duplicados que nos interesa filtrar, \n",
    "    así que vamos a realizar otro bucle for para iterar por todas las columnas del DF y obtener los duplicados de cada una de ellas.\"\"\"\n",
    "\n",
    "    for columna in df.columns:\n",
    "        cantidad_duplicados = df[columna].duplicated().sum()\n",
    "    \n",
    "        print(f'La columna {columna}: {cantidad_duplicados}')\n",
    "\n",
    "\n",
    "    print('____________________ RESUMEN ESTADÍSTICO ____________________')\n",
    "    print('____________________ Variables Numéricas __________________\\n')\n",
    "    print(df.describe().T)\n",
    "    \n",
    "    print('___________________ Variables Categóricas _________________\\n')\n",
    "    print(df.describe(include='object').T)"
   ]
  },
  {
   "cell_type": "code",
   "execution_count": 8,
   "metadata": {},
   "outputs": [
    {
     "name": "stdout",
     "output_type": "stream",
     "text": [
      "_____________ INFORMACIÓN GENERAL DEL DATAFRAME ____________\n",
      "\n",
      "<class 'pandas.core.frame.DataFrame'>\n",
      "RangeIndex: 7500 entries, 0 to 7499\n",
      "Data columns (total 11 columns):\n",
      " #   Column       Non-Null Count  Dtype  \n",
      "---  ------       --------------  -----  \n",
      " 0   winery       7500 non-null   object \n",
      " 1   wine         7500 non-null   object \n",
      " 2   year         7498 non-null   object \n",
      " 3   rating       7500 non-null   float64\n",
      " 4   num_reviews  7500 non-null   int64  \n",
      " 5   country      7500 non-null   object \n",
      " 6   region       7500 non-null   object \n",
      " 7   price        7500 non-null   float64\n",
      " 8   type         6955 non-null   object \n",
      " 9   body         6331 non-null   float64\n",
      " 10  acidity      6331 non-null   float64\n",
      "dtypes: float64(4), int64(1), object(6)\n",
      "memory usage: 644.7+ KB\n",
      "None\n",
      "___________________ FORMA DEL DATAFRAME ____________________\n",
      "\n",
      "El número de filas que tenemos es de 7500.\n",
      "El número de columnas es de 11\n",
      "\n",
      "_______________ NULOS, ÚNICOS Y DUPLICADOS _________________\n",
      "\n",
      "La cantidad de valores NULOS por columna es de:\n",
      "\n",
      "winery            0\n",
      "wine              0\n",
      "year              2\n",
      "rating            0\n",
      "num_reviews       0\n",
      "country           0\n",
      "region            0\n",
      "price             0\n",
      "type            545\n",
      "body           1169\n",
      "acidity        1169\n",
      "dtype: int64\n",
      "____________________________________________________________\n",
      "\n",
      "La cantidad de valores ÚNICOS por columna es de:\n",
      "\n",
      "La columna winery: 480\n",
      "La columna wine: 847\n",
      "La columna year: 72\n",
      "La columna rating: 8\n",
      "La columna num_reviews: 817\n",
      "La columna country: 1\n",
      "La columna region: 76\n",
      "La columna price: 1292\n",
      "La columna type: 22\n",
      "La columna body: 5\n",
      "La columna acidity: 4\n",
      "____________________________________________________________\n",
      "\n",
      "La cantidad de valores DUPLICADOS por columna es de:\n",
      "\n",
      "La columna winery: 7020\n",
      "La columna wine: 6653\n",
      "La columna year: 7428\n",
      "La columna rating: 7492\n",
      "La columna num_reviews: 6683\n",
      "La columna country: 7499\n",
      "La columna region: 7424\n",
      "La columna price: 6208\n",
      "La columna type: 7478\n",
      "La columna body: 7495\n",
      "La columna acidity: 7496\n",
      "____________________ RESUMEN ESTADÍSTICO ____________________\n",
      "____________________ Variables Numéricas __________________\n",
      "\n",
      "              count        mean         std    min    25%     50%     75%  \\\n",
      "rating       7500.0    4.254933    0.118029   4.20    4.2    4.20    4.20   \n",
      "num_reviews  7500.0  451.109067  723.001856  25.00  389.0  404.00  415.00   \n",
      "price        7500.0   60.095822  150.356676   4.99   18.9   28.53   51.35   \n",
      "body         6331.0    4.158427    0.583352   2.00    4.0    4.00    5.00   \n",
      "acidity      6331.0    2.946612    0.248202   1.00    3.0    3.00    3.00   \n",
      "\n",
      "                  max  \n",
      "rating           4.90  \n",
      "num_reviews  32624.00  \n",
      "price         3119.08  \n",
      "body             5.00  \n",
      "acidity          3.00  \n",
      "___________________ Variables Categóricas _________________\n",
      "\n",
      "        count unique        top  freq\n",
      "winery   7500    480    Contino   457\n",
      "wine     7500    847    Reserva   467\n",
      "year     7498     71       2011  1190\n",
      "country  7500      1     Espana  7500\n",
      "region   7500     76      Rioja  2440\n",
      "type     6955     21  Rioja Red  2357\n"
     ]
    }
   ],
   "source": [
    "exploracion_datos(vino_espania)"
   ]
  },
  {
   "cell_type": "code",
   "execution_count": 9,
   "metadata": {},
   "outputs": [
    {
     "name": "stdout",
     "output_type": "stream",
     "text": [
      "winery          0.000000\n",
      "wine            0.000000\n",
      "year            0.026667\n",
      "rating          0.000000\n",
      "num_reviews     0.000000\n",
      "country         0.000000\n",
      "region          0.000000\n",
      "price           0.000000\n",
      "type            7.266667\n",
      "body           15.586667\n",
      "acidity        15.586667\n",
      "dtype: float64\n"
     ]
    }
   ],
   "source": [
    "# Paso 1: Identificar los valores nulos\n",
    "nulos = vino_espania.isnull()\n",
    "\n",
    "# Paso 2: Contar los valores nulos por columna\n",
    "conteo_nulos = nulos.sum()\n",
    "\n",
    "# Paso 3: Calcular el porcentaje de nulos por columna\n",
    "porcentaje_nulos = (conteo_nulos / len(vino_espania)) * 100\n",
    "\n",
    "# Mostrar el resultado\n",
    "print(porcentaje_nulos)"
   ]
  },
  {
   "cell_type": "markdown",
   "metadata": {},
   "source": [
    "Columnas categoricas que tienen nulos"
   ]
  },
  {
   "cell_type": "code",
   "execution_count": 11,
   "metadata": {},
   "outputs": [
    {
     "name": "stdout",
     "output_type": "stream",
     "text": [
      "Las columnas categóricas que tienen nulos son : \n",
      " \n",
      "Index(['year', 'type'], dtype='object')\n",
      "La distribución de las categorías para la columna YEAR\n"
     ]
    },
    {
     "data": {
      "text/plain": [
       "year\n",
       "2011    0.158667\n",
       "2016    0.119600\n",
       "2015    0.114667\n",
       "2018    0.113333\n",
       "2017    0.097467\n",
       "2012    0.070400\n",
       "2020    0.063200\n",
       "2014    0.050133\n",
       "2019    0.044133\n",
       "N.V.    0.038400\n",
       "2004    0.033867\n",
       "2005    0.026400\n",
       "2010    0.009867\n",
       "2013    0.008800\n",
       "2009    0.006133\n",
       "2007    0.005067\n",
       "2006    0.004267\n",
       "2008    0.004000\n",
       "2001    0.002800\n",
       "2000    0.002400\n",
       "1994    0.001733\n",
       "1995    0.001733\n",
       "2003    0.001733\n",
       "1998    0.001600\n",
       "2002    0.001600\n",
       "1996    0.001467\n",
       "1999    0.001333\n",
       "1982    0.001067\n",
       "1964    0.000933\n",
       "1989    0.000933\n",
       "1985    0.000933\n",
       "2021    0.000800\n",
       "1987    0.000800\n",
       "1986    0.000800\n",
       "1968    0.000667\n",
       "1970    0.000667\n",
       "1981    0.000533\n",
       "1997    0.000400\n",
       "1991    0.000400\n",
       "1973    0.000400\n",
       "1955    0.000267\n",
       "1965    0.000267\n",
       "1959    0.000267\n",
       "1980    0.000267\n",
       "1983    0.000267\n",
       "1988    0.000267\n",
       "1975    0.000267\n",
       "1962    0.000267\n",
       "1990    0.000267\n",
       "1979    0.000267\n",
       "1946    0.000267\n",
       "1951    0.000133\n",
       "1928    0.000133\n",
       "1929    0.000133\n",
       "1976    0.000133\n",
       "1949    0.000133\n",
       "1922    0.000133\n",
       "1978    0.000133\n",
       "1969    0.000133\n",
       "1942    0.000133\n",
       "1954    0.000133\n",
       "1961    0.000133\n",
       "1910    0.000133\n",
       "1967    0.000133\n",
       "1992    0.000133\n",
       "1958    0.000133\n",
       "1953    0.000133\n",
       "1972    0.000133\n",
       "1974    0.000133\n",
       "1931    0.000133\n",
       "1925    0.000133\n",
       "Name: count, dtype: float64"
      ]
     },
     "metadata": {},
     "output_type": "display_data"
    },
    {
     "name": "stdout",
     "output_type": "stream",
     "text": [
      "........................\n",
      "La distribución de las categorías para la columna TYPE\n"
     ]
    },
    {
     "data": {
      "text/plain": [
       "type\n",
       "Rioja Red               0.314267\n",
       "Ribera Del Duero Red    0.187600\n",
       "Red                     0.115200\n",
       "Priorat Red             0.089867\n",
       "Toro Red                0.039467\n",
       "Tempranillo             0.038800\n",
       "Sherry                  0.036533\n",
       "Albarino                0.033600\n",
       "Mencia                  0.031333\n",
       "Rioja White             0.012267\n",
       "Pedro Ximenez           0.004667\n",
       "Grenache                0.004667\n",
       "Cava                    0.004400\n",
       "Verdejo                 0.003600\n",
       "Monastrell              0.002400\n",
       "Montsant Red            0.002267\n",
       "Syrah                   0.002000\n",
       "Chardonnay              0.001733\n",
       "Cabernet Sauvignon      0.001467\n",
       "Sparkling               0.000667\n",
       "Sauvignon Blanc         0.000533\n",
       "Name: count, dtype: float64"
      ]
     },
     "metadata": {},
     "output_type": "display_data"
    },
    {
     "name": "stdout",
     "output_type": "stream",
     "text": [
      "........................\n"
     ]
    }
   ],
   "source": [
    "# Obtenemos la lista de columnas categóricas que tienen nulos\n",
    "nulos_esta_cat = vino_espania[vino_espania.columns[vino_espania.isnull().any()]].select_dtypes(include = \"O\").columns\n",
    "print(\"Las columnas categóricas que tienen nulos son : \\n \")\n",
    "print(nulos_esta_cat)\n",
    "\n",
    "# sacamos el 'value_counts()' de cada una de las columnas categóricas que tienen nulos para saber como es la distribución de sus categorías\n",
    "for col in nulos_esta_cat:\n",
    "    print(f\"La distribución de las categorías para la columna {col.upper()}\")\n",
    "    display(vino_espania[col].value_counts() / vino_espania.shape[0])  # display es una función utilizada para mostrar objetos de manera más legible en Jupyter Notebooks o entornos similares. \n",
    "    print(\"........................\")"
   ]
  },
  {
   "cell_type": "code",
   "execution_count": 12,
   "metadata": {},
   "outputs": [
    {
     "name": "stdout",
     "output_type": "stream",
     "text": [
      "Después del reemplazo usando 'fillna' quedan los siguientes nulos:\n",
      "type    0\n",
      "dtype: int64\n"
     ]
    }
   ],
   "source": [
    "def reemplazar_nulos_por_unknown(df, columnas):\n",
    "   \n",
    "    for columna in columnas:\n",
    "        df[columna] = df[columna].fillna(\"Unknown\")\n",
    "    \n",
    "    # Verificamos si quedan nulos en las columnas especificadas\n",
    "    nulos_restantes = df[columnas].isnull().sum()\n",
    "    print(\"Después del reemplazo usando 'fillna' quedan los siguientes nulos:\")\n",
    "    print(nulos_restantes)\n",
    "    \n",
    "    return df\n",
    "\n",
    "columnas_desconocido = [\"type\"]\n",
    "wine_limpio = reemplazar_nulos_por_unknown(vino_espania, columnas_desconocido)"
   ]
  },
  {
   "cell_type": "markdown",
   "metadata": {},
   "source": [
    "Imputamos columnas numéricas"
   ]
  },
  {
   "cell_type": "code",
   "execution_count": 14,
   "metadata": {},
   "outputs": [
    {
     "name": "stdout",
     "output_type": "stream",
     "text": [
      "Las columnas numéricas que tienen nulos son:\n",
      "Index(['body', 'acidity'], dtype='object')\n",
      "\n",
      "Porcentaje de nulos en las columnas numéricas:\n",
      "body       15.586667\n",
      "acidity    15.586667\n",
      "dtype: float64\n"
     ]
    }
   ],
   "source": [
    "# Obtenemos las columnas que tienen nulos\n",
    "nulos_esta = vino_espania.columns[vino_espania.isnull().any()]\n",
    "\n",
    "# Filtramos para obtener solo las columnas numéricas con nulos\n",
    "nulos_esta_num = vino_espania[nulos_esta].select_dtypes(include=np.number).columns\n",
    "\n",
    "print(\"Las columnas numéricas que tienen nulos son:\")\n",
    "print(nulos_esta_num)\n",
    "\n",
    "# Calculamos el número de nulos en cada columna numérica y el porcentaje de nulos\n",
    "nulos_porcentaje = vino_espania[nulos_esta_num].isnull().sum() / vino_espania.shape[0] * 100\n",
    "\n",
    "print(\"\\nPorcentaje de nulos en las columnas numéricas:\")\n",
    "print(nulos_porcentaje)"
   ]
  },
  {
   "cell_type": "code",
   "execution_count": 15,
   "metadata": {},
   "outputs": [
    {
     "name": "stderr",
     "output_type": "stream",
     "text": [
      "/opt/homebrew/lib/python3.11/site-packages/seaborn/_oldcore.py:1498: FutureWarning: is_categorical_dtype is deprecated and will be removed in a future version. Use isinstance(dtype, CategoricalDtype) instead\n",
      "  if pd.api.types.is_categorical_dtype(vector):\n"
     ]
    },
    {
     "data": {
      "text/plain": [
       "<Axes: xlabel='body'>"
      ]
     },
     "execution_count": 15,
     "metadata": {},
     "output_type": "execute_result"
    },
    {
     "data": {
      "image/png": "[encoded data removed]",
      "text/plain": [
       "<Figure size 640x480 with 1 Axes>"
      ]
     },
     "metadata": {},
     "output_type": "display_data"
    }
   ],
   "source": [
    "sns.boxplot(x = 'body', data = vino_espania)"
   ]
  },
  {
   "cell_type": "markdown",
   "metadata": {},
   "source": [
    "imputamos con iterative imputer"
   ]
  },
  {
   "cell_type": "code",
   "execution_count": 17,
   "metadata": {},
   "outputs": [
    {
     "data": {
      "text/plain": [
       "array([[5.],\n",
       "       [4.],\n",
       "       [5.],\n",
       "       ...,\n",
       "       [4.],\n",
       "       [5.],\n",
       "       [5.]])"
      ]
     },
     "execution_count": 17,
     "metadata": {},
     "output_type": "execute_result"
    }
   ],
   "source": [
    "# instanciamos las clases\n",
    "imputer_iterative = IterativeImputer(max_iter = 20, random_state = 42)\n",
    "\n",
    "# ajustamos y tranformamos los datos\n",
    "imputer_iterative_imputado = imputer_iterative.fit_transform(vino_espania[[\"body\"]])\n",
    "\n",
    "# comprobamos que es lo que nos devuelve, que en este caso es un array también\n",
    "imputer_iterative_imputado"
   ]
  },
  {
   "cell_type": "code",
   "execution_count": 18,
   "metadata": {},
   "outputs": [],
   "source": [
    "vino_espania[\"body_iterative\"] = imputer_iterative_imputado"
   ]
  },
  {
   "cell_type": "code",
   "execution_count": 19,
   "metadata": {},
   "outputs": [
    {
     "data": {
      "text/html": [
       "<div>\n",
       "<style scoped>\n",
       "    .dataframe tbody tr th:only-of-type {\n",
       "        vertical-align: middle;\n",
       "    }\n",
       "\n",
       "    .dataframe tbody tr th {\n",
       "        vertical-align: top;\n",
       "    }\n",
       "\n",
       "    .dataframe thead th {\n",
       "        text-align: right;\n",
       "    }\n",
       "</style>\n",
       "<table border=\"1\" class=\"dataframe\">\n",
       "  <thead>\n",
       "    <tr style=\"text-align: right;\">\n",
       "      <th></th>\n",
       "      <th>body</th>\n",
       "      <th>body_iterative</th>\n",
       "    </tr>\n",
       "  </thead>\n",
       "  <tbody>\n",
       "    <tr>\n",
       "      <th>count</th>\n",
       "      <td>6331.000000</td>\n",
       "      <td>7500.000000</td>\n",
       "    </tr>\n",
       "    <tr>\n",
       "      <th>mean</th>\n",
       "      <td>4.158427</td>\n",
       "      <td>4.158427</td>\n",
       "    </tr>\n",
       "    <tr>\n",
       "      <th>std</th>\n",
       "      <td>0.583352</td>\n",
       "      <td>0.535958</td>\n",
       "    </tr>\n",
       "    <tr>\n",
       "      <th>min</th>\n",
       "      <td>2.000000</td>\n",
       "      <td>2.000000</td>\n",
       "    </tr>\n",
       "    <tr>\n",
       "      <th>25%</th>\n",
       "      <td>4.000000</td>\n",
       "      <td>4.000000</td>\n",
       "    </tr>\n",
       "    <tr>\n",
       "      <th>50%</th>\n",
       "      <td>4.000000</td>\n",
       "      <td>4.000000</td>\n",
       "    </tr>\n",
       "    <tr>\n",
       "      <th>75%</th>\n",
       "      <td>5.000000</td>\n",
       "      <td>4.158427</td>\n",
       "    </tr>\n",
       "    <tr>\n",
       "      <th>max</th>\n",
       "      <td>5.000000</td>\n",
       "      <td>5.000000</td>\n",
       "    </tr>\n",
       "  </tbody>\n",
       "</table>\n",
       "</div>"
      ],
      "text/plain": [
       "              body  body_iterative\n",
       "count  6331.000000     7500.000000\n",
       "mean      4.158427        4.158427\n",
       "std       0.583352        0.535958\n",
       "min       2.000000        2.000000\n",
       "25%       4.000000        4.000000\n",
       "50%       4.000000        4.000000\n",
       "75%       5.000000        4.158427\n",
       "max       5.000000        5.000000"
      ]
     },
     "execution_count": 19,
     "metadata": {},
     "output_type": "execute_result"
    }
   ],
   "source": [
    "vino_espania.describe()[[\"body\",\"body_iterative\"]]    "
   ]
  },
  {
   "cell_type": "markdown",
   "metadata": {},
   "source": [
    "Imputamos con knn"
   ]
  },
  {
   "cell_type": "code",
   "execution_count": 20,
   "metadata": {},
   "outputs": [],
   "source": [
    "# instanciamos la clase del KNNImputer\n",
    "imputer_knn = KNNImputer(n_neighbors = 5)\n",
    "\n",
    "# ajustamos y transformamos los datos\n",
    "imputer_knn_imputado = imputer_knn.fit_transform(vino_espania[[\"body\"]])\n",
    "\n",
    "# comprobamos que es lo que nos devuelve, que sigue siendo un array\n",
    "imputer_knn_imputado\n",
    "\n",
    "# por último nos queda añadir ese array al DataFrame como hemos hecho hasta ahora\n",
    "vino_espania[\"body_knn\"] = imputer_knn_imputado"
   ]
  },
  {
   "cell_type": "code",
   "execution_count": 21,
   "metadata": {},
   "outputs": [
    {
     "data": {
      "text/html": [
       "<div>\n",
       "<style scoped>\n",
       "    .dataframe tbody tr th:only-of-type {\n",
       "        vertical-align: middle;\n",
       "    }\n",
       "\n",
       "    .dataframe tbody tr th {\n",
       "        vertical-align: top;\n",
       "    }\n",
       "\n",
       "    .dataframe thead th {\n",
       "        text-align: right;\n",
       "    }\n",
       "</style>\n",
       "<table border=\"1\" class=\"dataframe\">\n",
       "  <thead>\n",
       "    <tr style=\"text-align: right;\">\n",
       "      <th></th>\n",
       "      <th>body</th>\n",
       "      <th>body_iterative</th>\n",
       "      <th>body_knn</th>\n",
       "    </tr>\n",
       "  </thead>\n",
       "  <tbody>\n",
       "    <tr>\n",
       "      <th>count</th>\n",
       "      <td>6331.000000</td>\n",
       "      <td>7500.000000</td>\n",
       "      <td>7500.000000</td>\n",
       "    </tr>\n",
       "    <tr>\n",
       "      <th>mean</th>\n",
       "      <td>4.158427</td>\n",
       "      <td>4.158427</td>\n",
       "      <td>4.158427</td>\n",
       "    </tr>\n",
       "    <tr>\n",
       "      <th>std</th>\n",
       "      <td>0.583352</td>\n",
       "      <td>0.535958</td>\n",
       "      <td>0.535958</td>\n",
       "    </tr>\n",
       "    <tr>\n",
       "      <th>min</th>\n",
       "      <td>2.000000</td>\n",
       "      <td>2.000000</td>\n",
       "      <td>2.000000</td>\n",
       "    </tr>\n",
       "    <tr>\n",
       "      <th>25%</th>\n",
       "      <td>4.000000</td>\n",
       "      <td>4.000000</td>\n",
       "      <td>4.000000</td>\n",
       "    </tr>\n",
       "    <tr>\n",
       "      <th>50%</th>\n",
       "      <td>4.000000</td>\n",
       "      <td>4.000000</td>\n",
       "      <td>4.000000</td>\n",
       "    </tr>\n",
       "    <tr>\n",
       "      <th>75%</th>\n",
       "      <td>5.000000</td>\n",
       "      <td>4.158427</td>\n",
       "      <td>4.158427</td>\n",
       "    </tr>\n",
       "    <tr>\n",
       "      <th>max</th>\n",
       "      <td>5.000000</td>\n",
       "      <td>5.000000</td>\n",
       "      <td>5.000000</td>\n",
       "    </tr>\n",
       "  </tbody>\n",
       "</table>\n",
       "</div>"
      ],
      "text/plain": [
       "              body  body_iterative     body_knn\n",
       "count  6331.000000     7500.000000  7500.000000\n",
       "mean      4.158427        4.158427     4.158427\n",
       "std       0.583352        0.535958     0.535958\n",
       "min       2.000000        2.000000     2.000000\n",
       "25%       4.000000        4.000000     4.000000\n",
       "50%       4.000000        4.000000     4.000000\n",
       "75%       5.000000        4.158427     4.158427\n",
       "max       5.000000        5.000000     5.000000"
      ]
     },
     "execution_count": 21,
     "metadata": {},
     "output_type": "execute_result"
    }
   ],
   "source": [
    "vino_espania.describe()[[\"body\",\"body_iterative\", \"body_knn\"]]"
   ]
  },
  {
   "cell_type": "markdown",
   "metadata": {},
   "source": [
    "eliminamos body y body knn"
   ]
  },
  {
   "cell_type": "code",
   "execution_count": 22,
   "metadata": {},
   "outputs": [],
   "source": [
    "vino_espania.drop(columns=[\"body\", 'body_knn'], axis = 1, inplace = True)"
   ]
  },
  {
   "cell_type": "markdown",
   "metadata": {},
   "source": [
    "renombramos las columnas"
   ]
  },
  {
   "cell_type": "code",
   "execution_count": 23,
   "metadata": {},
   "outputs": [],
   "source": [
    "nuevo_nombre = {\"body_iterative\" : \"body\"}\n",
    "vino_espania.rename(columns = nuevo_nombre, inplace = True)"
   ]
  },
  {
   "cell_type": "code",
   "execution_count": 24,
   "metadata": {},
   "outputs": [
    {
     "data": {
      "text/plain": [
       "Index(['winery', 'wine', 'year', 'rating', 'num_reviews', 'country', 'region',\n",
       "       'price', 'type', 'acidity', 'body'],\n",
       "      dtype='object')"
      ]
     },
     "execution_count": 24,
     "metadata": {},
     "output_type": "execute_result"
    }
   ],
   "source": [
    "vino_espania.columns"
   ]
  },
  {
   "cell_type": "markdown",
   "metadata": {},
   "source": [
    "columna acidity"
   ]
  },
  {
   "cell_type": "code",
   "execution_count": 25,
   "metadata": {},
   "outputs": [
    {
     "name": "stderr",
     "output_type": "stream",
     "text": [
      "/opt/homebrew/lib/python3.11/site-packages/seaborn/_oldcore.py:1498: FutureWarning: is_categorical_dtype is deprecated and will be removed in a future version. Use isinstance(dtype, CategoricalDtype) instead\n",
      "  if pd.api.types.is_categorical_dtype(vector):\n"
     ]
    },
    {
     "data": {
      "text/plain": [
       "<Axes: xlabel='acidity'>"
      ]
     },
     "execution_count": 25,
     "metadata": {},
     "output_type": "execute_result"
    },
    {
     "data": {
      "image/png": "[encoded data removed]",
      "text/plain": [
       "<Figure size 640x480 with 1 Axes>"
      ]
     },
     "metadata": {},
     "output_type": "display_data"
    }
   ],
   "source": [
    "sns.boxplot(x = 'acidity', data = vino_espania)"
   ]
  },
  {
   "cell_type": "markdown",
   "metadata": {},
   "source": [
    "imputamos con iterative imputer"
   ]
  },
  {
   "cell_type": "code",
   "execution_count": 26,
   "metadata": {},
   "outputs": [
    {
     "data": {
      "text/plain": [
       "array([[3.],\n",
       "       [2.],\n",
       "       [3.],\n",
       "       ...,\n",
       "       [3.],\n",
       "       [3.],\n",
       "       [3.]])"
      ]
     },
     "execution_count": 26,
     "metadata": {},
     "output_type": "execute_result"
    }
   ],
   "source": [
    "# instanciamos las clases\n",
    "imputer_iterative = IterativeImputer(max_iter = 20, random_state = 42)\n",
    "\n",
    "# ajustamos y tranformamos los datos\n",
    "imputer_iterative_imputado = imputer_iterative.fit_transform(vino_espania[[\"acidity\"]])\n",
    "\n",
    "# comprobamos que es lo que nos devuelve, que en este caso es un array también\n",
    "imputer_iterative_imputado"
   ]
  },
  {
   "cell_type": "code",
   "execution_count": 27,
   "metadata": {},
   "outputs": [],
   "source": [
    "vino_espania[\"acidity_iterative\"] = imputer_iterative_imputado"
   ]
  },
  {
   "cell_type": "code",
   "execution_count": 28,
   "metadata": {},
   "outputs": [
    {
     "data": {
      "text/html": [
       "<div>\n",
       "<style scoped>\n",
       "    .dataframe tbody tr th:only-of-type {\n",
       "        vertical-align: middle;\n",
       "    }\n",
       "\n",
       "    .dataframe tbody tr th {\n",
       "        vertical-align: top;\n",
       "    }\n",
       "\n",
       "    .dataframe thead th {\n",
       "        text-align: right;\n",
       "    }\n",
       "</style>\n",
       "<table border=\"1\" class=\"dataframe\">\n",
       "  <thead>\n",
       "    <tr style=\"text-align: right;\">\n",
       "      <th></th>\n",
       "      <th>acidity</th>\n",
       "      <th>acidity_iterative</th>\n",
       "    </tr>\n",
       "  </thead>\n",
       "  <tbody>\n",
       "    <tr>\n",
       "      <th>count</th>\n",
       "      <td>6331.000000</td>\n",
       "      <td>7500.000000</td>\n",
       "    </tr>\n",
       "    <tr>\n",
       "      <th>mean</th>\n",
       "      <td>2.946612</td>\n",
       "      <td>2.946612</td>\n",
       "    </tr>\n",
       "    <tr>\n",
       "      <th>std</th>\n",
       "      <td>0.248202</td>\n",
       "      <td>0.228037</td>\n",
       "    </tr>\n",
       "    <tr>\n",
       "      <th>min</th>\n",
       "      <td>1.000000</td>\n",
       "      <td>1.000000</td>\n",
       "    </tr>\n",
       "    <tr>\n",
       "      <th>25%</th>\n",
       "      <td>3.000000</td>\n",
       "      <td>3.000000</td>\n",
       "    </tr>\n",
       "    <tr>\n",
       "      <th>50%</th>\n",
       "      <td>3.000000</td>\n",
       "      <td>3.000000</td>\n",
       "    </tr>\n",
       "    <tr>\n",
       "      <th>75%</th>\n",
       "      <td>3.000000</td>\n",
       "      <td>3.000000</td>\n",
       "    </tr>\n",
       "    <tr>\n",
       "      <th>max</th>\n",
       "      <td>3.000000</td>\n",
       "      <td>3.000000</td>\n",
       "    </tr>\n",
       "  </tbody>\n",
       "</table>\n",
       "</div>"
      ],
      "text/plain": [
       "           acidity  acidity_iterative\n",
       "count  6331.000000        7500.000000\n",
       "mean      2.946612           2.946612\n",
       "std       0.248202           0.228037\n",
       "min       1.000000           1.000000\n",
       "25%       3.000000           3.000000\n",
       "50%       3.000000           3.000000\n",
       "75%       3.000000           3.000000\n",
       "max       3.000000           3.000000"
      ]
     },
     "execution_count": 28,
     "metadata": {},
     "output_type": "execute_result"
    }
   ],
   "source": [
    "vino_espania.describe()[[\"acidity\",\"acidity_iterative\"]]   "
   ]
  },
  {
   "cell_type": "markdown",
   "metadata": {},
   "source": [
    "Imputamos con KNN"
   ]
  },
  {
   "cell_type": "code",
   "execution_count": 29,
   "metadata": {},
   "outputs": [],
   "source": [
    "# instanciamos la clase del KNNImputer\n",
    "imputer_knn = KNNImputer(n_neighbors = 5)\n",
    "\n",
    "# ajustamos y transformamos los datos\n",
    "imputer_knn_imputado = imputer_knn.fit_transform(vino_espania[[\"acidity\"]])\n",
    "\n",
    "# comprobamos que es lo que nos devuelve, que sigue siendo un array\n",
    "imputer_knn_imputado\n",
    "\n",
    "# por último nos queda añadir ese array al DataFrame como hemos hecho hasta ahora\n",
    "vino_espania[\"acidity_knn\"] = imputer_knn_imputado"
   ]
  },
  {
   "cell_type": "code",
   "execution_count": 30,
   "metadata": {},
   "outputs": [
    {
     "data": {
      "text/html": [
       "<div>\n",
       "<style scoped>\n",
       "    .dataframe tbody tr th:only-of-type {\n",
       "        vertical-align: middle;\n",
       "    }\n",
       "\n",
       "    .dataframe tbody tr th {\n",
       "        vertical-align: top;\n",
       "    }\n",
       "\n",
       "    .dataframe thead th {\n",
       "        text-align: right;\n",
       "    }\n",
       "</style>\n",
       "<table border=\"1\" class=\"dataframe\">\n",
       "  <thead>\n",
       "    <tr style=\"text-align: right;\">\n",
       "      <th></th>\n",
       "      <th>acidity</th>\n",
       "      <th>acidity_iterative</th>\n",
       "      <th>acidity_knn</th>\n",
       "    </tr>\n",
       "  </thead>\n",
       "  <tbody>\n",
       "    <tr>\n",
       "      <th>count</th>\n",
       "      <td>6331.000000</td>\n",
       "      <td>7500.000000</td>\n",
       "      <td>7500.000000</td>\n",
       "    </tr>\n",
       "    <tr>\n",
       "      <th>mean</th>\n",
       "      <td>2.946612</td>\n",
       "      <td>2.946612</td>\n",
       "      <td>2.946612</td>\n",
       "    </tr>\n",
       "    <tr>\n",
       "      <th>std</th>\n",
       "      <td>0.248202</td>\n",
       "      <td>0.228037</td>\n",
       "      <td>0.228037</td>\n",
       "    </tr>\n",
       "    <tr>\n",
       "      <th>min</th>\n",
       "      <td>1.000000</td>\n",
       "      <td>1.000000</td>\n",
       "      <td>1.000000</td>\n",
       "    </tr>\n",
       "    <tr>\n",
       "      <th>25%</th>\n",
       "      <td>3.000000</td>\n",
       "      <td>3.000000</td>\n",
       "      <td>3.000000</td>\n",
       "    </tr>\n",
       "    <tr>\n",
       "      <th>50%</th>\n",
       "      <td>3.000000</td>\n",
       "      <td>3.000000</td>\n",
       "      <td>3.000000</td>\n",
       "    </tr>\n",
       "    <tr>\n",
       "      <th>75%</th>\n",
       "      <td>3.000000</td>\n",
       "      <td>3.000000</td>\n",
       "      <td>3.000000</td>\n",
       "    </tr>\n",
       "    <tr>\n",
       "      <th>max</th>\n",
       "      <td>3.000000</td>\n",
       "      <td>3.000000</td>\n",
       "      <td>3.000000</td>\n",
       "    </tr>\n",
       "  </tbody>\n",
       "</table>\n",
       "</div>"
      ],
      "text/plain": [
       "           acidity  acidity_iterative  acidity_knn\n",
       "count  6331.000000        7500.000000  7500.000000\n",
       "mean      2.946612           2.946612     2.946612\n",
       "std       0.248202           0.228037     0.228037\n",
       "min       1.000000           1.000000     1.000000\n",
       "25%       3.000000           3.000000     3.000000\n",
       "50%       3.000000           3.000000     3.000000\n",
       "75%       3.000000           3.000000     3.000000\n",
       "max       3.000000           3.000000     3.000000"
      ]
     },
     "execution_count": 30,
     "metadata": {},
     "output_type": "execute_result"
    }
   ],
   "source": [
    "vino_espania.describe()[[\"acidity\",\"acidity_iterative\", \"acidity_knn\"]]"
   ]
  },
  {
   "cell_type": "markdown",
   "metadata": {},
   "source": [
    "eliminamos acidity y acidity knn"
   ]
  },
  {
   "cell_type": "code",
   "execution_count": 31,
   "metadata": {},
   "outputs": [],
   "source": [
    "vino_espania.drop(columns=[\"acidity\", 'acidity_knn'], axis = 1, inplace = True)"
   ]
  },
  {
   "cell_type": "markdown",
   "metadata": {},
   "source": [
    "renombramos las columnas"
   ]
  },
  {
   "cell_type": "code",
   "execution_count": 32,
   "metadata": {},
   "outputs": [],
   "source": [
    "nuevo_nombre = {\"acidity_iterative\" : \"acidity\"}\n",
    "vino_espania.rename(columns = nuevo_nombre, inplace = True)"
   ]
  },
  {
   "cell_type": "code",
   "execution_count": 33,
   "metadata": {},
   "outputs": [
    {
     "data": {
      "text/plain": [
       "Index(['winery', 'wine', 'year', 'rating', 'num_reviews', 'country', 'region',\n",
       "       'price', 'type', 'body', 'acidity'],\n",
       "      dtype='object')"
      ]
     },
     "execution_count": 33,
     "metadata": {},
     "output_type": "execute_result"
    }
   ],
   "source": [
    "vino_espania.columns"
   ]
  },
  {
   "cell_type": "code",
   "execution_count": 34,
   "metadata": {},
   "outputs": [],
   "source": [
    "vino_espania.to_csv('vinos_esp_limpio.csv')"
   ]
  }
 ],
 "metadata": {
  "kernelspec": {
   "display_name": "Python 3",
   "language": "python",
   "name": "python3"
  },
  "language_info": {
   "codemirror_mode": {
    "name": "ipython",
    "version": 3
   },
   "file_extension": ".py",
   "mimetype": "text/x-python",
   "name": "python",
   "nbconvert_exporter": "python",
   "pygments_lexer": "ipython3",
   "version": "3.11.5"
  }
 },
 "nbformat": 4,
 "nbformat_minor": 2
}
